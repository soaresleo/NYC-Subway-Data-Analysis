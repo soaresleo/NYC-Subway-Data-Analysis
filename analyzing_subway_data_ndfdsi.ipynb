{
  "nbformat": 4,
  "nbformat_minor": 0,
  "metadata": {
    "celltoolbar": "Edit Metadata",
    "kernelspec": {
      "display_name": "Python 2",
      "language": "python",
      "name": "python2"
    },
    "language_info": {
      "codemirror_mode": {
        "name": "ipython",
        "version": 2
      },
      "file_extension": ".py",
      "mimetype": "text/x-python",
      "name": "python",
      "nbconvert_exporter": "python",
      "pygments_lexer": "ipython2",
      "version": "2.7.13"
    },
    "colab": {
      "name": "analyzing-subway-data-ndfdsi.ipynb",
      "provenance": [],
      "collapsed_sections": []
    }
  },
  "cells": [
    {
      "cell_type": "markdown",
      "metadata": {
        "id": "BzcQsGLkcsAP",
        "colab_type": "text"
      },
      "source": [
        "# Subway Data Analysis\n",
        "\n",
        "## Introduction\n",
        "\n",
        "O sistema de ônibus e trens de Nova Iorque - o Metro Transit Authority - fornece seus dados para download através de  arquivos csv. Uma das informações disponíveis são os dados das catracas do metrô que contém logs semanais de entradas cumulativas e saídas por catraca por estação de metrô em algum intervalo de tempo.\n",
        "\n",
        "\n",
        "Neste projeto iremos utilizar apenas os das catraca disponíveis em: http://web.mta.info/developers/turnstile.html.\n",
        "\n",
        "\n"
      ]
    },
    {
      "cell_type": "markdown",
      "metadata": {
        "id": "xw7RzCY3csAX",
        "colab_type": "text"
      },
      "source": [
        "# Sobre este projeto\n",
        "\n",
        "Neste projeto você irá aplicar todos os conhecimentos adquiridos neste primeiro mês de curso. Iremos praticar tarefas básicas de aquisição, limpeza de dados e nesse processo iremos descobrir coisas essenciais sobre os dados utilizando o que foi aprendido no curso de estatística. \n",
        "\n",
        "O objetivo deste projeto é explorar a relação entre os dados das catracas do metro de Nova Iorque e o clima no dia da coleta. Para isso, além dos dados do metrô, precisaremos os dados de clima da cidade de Nova Iorque. \n",
        "\n",
        "Os principais pontos que serão verificados neste trabalho:\n",
        "\n",
        "- Coleta de dados da internet\n",
        "- Utilização de estatística para análise de dados\n",
        "- Manipulação de dados e criação de gráficos simples com o `Pandas`\n",
        "\n",
        "*Como conseguir ajuda*: Sugerimos que tente os seguintes canais, nas seguintes ordens:\n",
        "\n",
        "| Tipo de dúvida\\Canais         \t| Google \t| Fórum \t| Slack \t| Email \t|\n",
        "|-------------------------------\t|--------\t|-------\t|-------\t|-------\t|\n",
        "| Programação Pyhon e Pandas    \t| 1      \t| 2     \t| 3     \t|       \t|\n",
        "| Requisitos do projeto         \t|        \t| 1     \t| 2     \t| 3     \t|\n",
        "| Partes específicas do Projeto \t|        \t| 1     \t| 2     \t| 3     \t|\n",
        "\n",
        "Os endereços dos canais são:\n",
        "\n",
        "- Fórum: https://discussions.udacity.com/c/ndfdsi-project\n",
        "- Slack: [udacity-br.slack.com](https://udacity-br.slack.com/messages/C5MT6E3E1)\n",
        "- Email: data-suporte@udacity.com\n",
        "\n",
        "**Espera-se que o estudante entregue este relatório com:**\n",
        "\n",
        "- Todos os TODO feitos, pois eles são essenciais para que o código rode corretamente\n",
        "- O arquivo ipynb exportado como html\n",
        "\n",
        "Para entregar este projeto, vá a [sala de aula](https://coco.udacity.com/nanodegrees/nd111/locale/pt-br/versions/1.0.0/parts/339726/modules/339733/lessons/340886/project) e submeta o seu `.ipynb` e o html, zipados."
      ]
    },
    {
      "cell_type": "markdown",
      "metadata": {
        "id": "7cbaU90LcsAa",
        "colab_type": "text"
      },
      "source": [
        "# Lembretes\n",
        "\n",
        "Antes de começarmos, alguns lembretes devem ter em mente ao usar os notebooks iPython:\n",
        "\n",
        "- Lembre-se de que você pode ver do lado esquerdo de uma célula de código quando foi executado pela última vez se houver um número dentro das chaves.\n",
        "- Quando você inicia uma nova sessão do notebook, certifique-se de executar todas as células até o ponto em que você deixou a última vez. Mesmo que a saída ainda seja visível a partir de quando você executou as células em sua sessão anterior, o kernel começa em um estado novo, então você precisará recarregar os dados, etc. em uma nova sessão.\n",
        "- O ponto anterior é útil para ter em mente se suas respostas não correspondem ao que é esperado nos questionários da aula. Tente recarregar os dados e execute todas as etapas de processamento um a um para garantir que você esteja trabalhando com as mesmas variáveis e dados que estão em cada fase do questionário."
      ]
    },
    {
      "cell_type": "markdown",
      "metadata": {
        "id": "KvUwCpamcsAe",
        "colab_type": "text"
      },
      "source": [
        "## Seção 1 - Coleta de Dados\n",
        "\n",
        "### *Exercicio 1.1*\n",
        "\n",
        "Mãos a obra!! Agora é sua vez de coletar os dados. Escreva abaixo um código python que acesse o link http://web.mta.info/developers/turnstile.html e baixe os arquivos do mês de junho de 2017. O arquivo deverá ser salvo com o nome turnstile_100617.txt onde 10/06/17 é a data do arquivo.\n",
        "\n",
        "Abaixo seguem alguns comandos que poderão te ajudar:\n",
        "\n",
        "Utilize a biblioteca **urllib** para abrir e resgatar uma página da web. Utilize o comando abaixo onde **url** será o caminho da página da web onde se encontra o arquivo:\n",
        "\n",
        "```python\n",
        "u = urllib.urlopen(url)\n",
        "html = u.read()\n",
        "```\n",
        "\n",
        "Utilize a biblioteca **BeautifulSoup** para procurar na página pelo link do arquivo que deseja baixar. Utilize o comando abaixo para criar o seu objeto *soup* e procurar por todas as tags 'a'no documento:\n",
        " \n",
        " \n",
        "```python\n",
        "soup = BeautifulSoup(html, \"html.parser\")\n",
        "links = soup.find_all('a')\n",
        "```\n",
        "\n",
        "Uma dica para baixar apenas os arquivos do mês de junho é verificar a data no nome do arquivo. Por exemplo, para baixar o arquivo do dia 17/06/2017 verifique se o link termina com *\"turnstile_170610.txt\"*. Se não fizer isso você baixará todos os arquivos da página. Para fazer isso utilize o comando conforme abaixo:\n",
        "\n",
        "```python\n",
        "if '1706' in link.get('href'):\n",
        "```\n",
        "\n",
        "E a dica final é utilizar o comando abaixo para fazer o download do arquivo txt:\n",
        "\n",
        "```python\n",
        "urllib.urlretrieve(link_do_arquivo, filename)\n",
        "```\n",
        "\n",
        "Lembre-se, primeiro, carregue todos os pacotes e funções que você estará usando em sua análise."
      ]
    },
    {
      "cell_type": "code",
      "metadata": {
        "id": "WYbDCHJ9csAh",
        "colab_type": "code",
        "colab": {}
      },
      "source": [
        "import urllib\n",
        "from bs4 import BeautifulSoup\n",
        "import pandas as pd\n",
        "import numpy as np\n",
        "\n",
        "#your code here\n",
        "\n",
        "strsize = len('turnstile_xxxxxx.txt')\n",
        "files_list = []\n",
        "\n",
        "u = urllib.urlopen('http://web.mta.info/developers/turnstile.html')\n",
        "html = u.read()\n",
        "\n",
        "soup = BeautifulSoup(html, \"html.parser\")\n",
        "links = soup.find_all('a')\n",
        "\n",
        "for link in links:\n",
        "    link = link.get('href')\n",
        "    if link != None and '1706' in link:\n",
        "        strlink = str(link)\n",
        "        start = strlink.find('turnstile_')\n",
        "        end = start + strsize\n",
        "        filename = strlink[start:end]\n",
        "        downloadlink = 'http://web.mta.info/developers/' + strlink        \n",
        "        if True:\n",
        "            urllib.urlretrieve(downloadlink, filename)\n",
        "        files_list.append(filename)\n"
      ],
      "execution_count": 0,
      "outputs": []
    },
    {
      "cell_type": "markdown",
      "metadata": {
        "id": "92zMQLl0csA2",
        "colab_type": "text"
      },
      "source": [
        "### *Exercicio 1.2*\n",
        "\n",
        "Escreva uma função que pegue a lista de nomes dos arquivos que você baixou no exercicio 1.1 e consolide-os em um único arquivo. Deve existir apenas uma linha de cabeçalho no arquivo de saida. \n",
        "\n",
        "Por exemplo, se o arquivo_1 tiver:\n",
        "linha 1...\n",
        "linha 2...\n",
        "\n",
        "e o outro arquivo, arquivo_2 tiver:\n",
        "linha 3...\n",
        "linha 4...\n",
        "linha 5...\n",
        "\n",
        "Devemos combinar o arquivo_1 com arquivo_2 em um arquivo mestre conforme abaixo:\n",
        "\n",
        "'C/A, UNIT, SCP, DATEn, TIMEn, DESCn, ENTRIESn, EXITSn'\n",
        "linha 1...\n",
        "linha 2...\n",
        "linha 3...\n",
        "linha 4...\n",
        "linha 5...\n"
      ]
    },
    {
      "cell_type": "code",
      "metadata": {
        "id": "iYMCT0EycsA5",
        "colab_type": "code",
        "colab": {}
      },
      "source": [
        "def create_master_turnstile_file(filenames, output_file):\n",
        "    with open(output_file, 'w') as master_file:\n",
        "        master_file.write('C/A,UNIT,SCP,STATION, LINENAME, DIVISION, DATEn,TIMEn,DESCn,ENTRIESn,EXITSn\\n')\n",
        "        for filename in filenames:\n",
        "            # your code here\n",
        "            with open(filename, 'r') as input_file:\n",
        "                content = input_file.readlines()[1:-1]\n",
        "                for line in content:\n",
        "                    master_file.write(line)\n",
        "            \n",
        "if True:\n",
        "    create_master_turnstile_file(files_list, 'data/master_file.txt')"
      ],
      "execution_count": 0,
      "outputs": []
    },
    {
      "cell_type": "markdown",
      "metadata": {
        "id": "ExzEGI2ScsBM",
        "colab_type": "text"
      },
      "source": [
        "### *Exercicio 1.3*\n",
        "\n",
        "Neste exercício, escreva um função que leia o master_file criado no exercicio anterior e carregue-o em um pandas dataframe. Esta função deve filtrar para que o dataframe possua apenas linhas onde a coluna \"DESCn\" possua o valor \"Regular\".\n",
        "\n",
        "Por exemplo, se o data frame do pandas estiver conforme abaixo:\n",
        "    \n",
        "    ,C/A,UNIT,SCP,DATEn,TIMEn,DESCn,ENTRIESn,EXITSn\n",
        "    0,A002,R051,02-00-00,05-01-11,00:00:00,REGULAR,3144312,1088151\n",
        "    1,A002,R051,02-00-00,05-01-11,04:00:00,DOOR,3144335,1088159\n",
        "    2,A002,R051,02-00-00,05-01-11,08:00:00,REGULAR,3144353,1088177\n",
        "    3,A002,R051,02-00-00,05-01-11,12:00:00,DOOR,3144424,1088231\n",
        "\n",
        "O dataframe deverá ficar conforme abaixo depois de filtrar apenas as linhas onde a coluna DESCn possua o valor REGULAR:\n",
        "\n",
        "    0,A002,R051,02-00-00,05-01-11,00:00:00,REGULAR,3144312,1088151\n",
        "    2,A002,R051,02-00-00,05-01-11,08:00:00,REGULAR,3144353,1088177\n"
      ]
    },
    {
      "cell_type": "code",
      "metadata": {
        "id": "cVr_raChcsBP",
        "colab_type": "code",
        "outputId": "8a278a68-48cb-41a3-8e2e-caf0a475b870",
        "colab": {
          "base_uri": "https://localhost:8080/",
          "height": 195
        }
      },
      "source": [
        "def filter_by_regular(filename):\n",
        "    with open(filename, 'r') as f:\n",
        "        turnstile_data = pd.read_csv(f)\n",
        "    return turnstile_data.loc[turnstile_data['DESCn']=='REGULAR']\n",
        "\n",
        "master_file_filtered = filter_by_regular('data/master_file.txt')\n",
        "master_file_filtered.head()"
      ],
      "execution_count": 10,
      "outputs": [
        {
          "output_type": "execute_result",
          "data": {
            "text/plain": [
              "    C/A  UNIT       SCP STATION  ...     TIMEn    DESCn ENTRIESn   EXITSn\n",
              "0  A002  R051  02-00-00   59 ST  ...  00:00:00  REGULAR  6224816  2107317\n",
              "1  A002  R051  02-00-00   59 ST  ...  04:00:00  REGULAR  6224850  2107322\n",
              "2  A002  R051  02-00-00   59 ST  ...  08:00:00  REGULAR  6224885  2107352\n",
              "3  A002  R051  02-00-00   59 ST  ...  12:00:00  REGULAR  6225005  2107452\n",
              "4  A002  R051  02-00-00   59 ST  ...  16:00:00  REGULAR  6225248  2107513\n",
              "\n",
              "[5 rows x 11 columns]"
            ],
            "text/html": [
              "<div>\n",
              "<style scoped>\n",
              "    .dataframe tbody tr th:only-of-type {\n",
              "        vertical-align: middle;\n",
              "    }\n",
              "\n",
              "    .dataframe tbody tr th {\n",
              "        vertical-align: top;\n",
              "    }\n",
              "\n",
              "    .dataframe thead th {\n",
              "        text-align: right;\n",
              "    }\n",
              "</style>\n",
              "<table border=\"1\" class=\"dataframe\">\n",
              "  <thead>\n",
              "    <tr style=\"text-align: right;\">\n",
              "      <th></th>\n",
              "      <th>C/A</th>\n",
              "      <th>UNIT</th>\n",
              "      <th>SCP</th>\n",
              "      <th>STATION</th>\n",
              "      <th>LINENAME</th>\n",
              "      <th>DIVISION</th>\n",
              "      <th>DATEn</th>\n",
              "      <th>TIMEn</th>\n",
              "      <th>DESCn</th>\n",
              "      <th>ENTRIESn</th>\n",
              "      <th>EXITSn</th>\n",
              "    </tr>\n",
              "  </thead>\n",
              "  <tbody>\n",
              "    <tr>\n",
              "      <th>0</th>\n",
              "      <td>A002</td>\n",
              "      <td>R051</td>\n",
              "      <td>02-00-00</td>\n",
              "      <td>59 ST</td>\n",
              "      <td>NQR456W</td>\n",
              "      <td>BMT</td>\n",
              "      <td>06/17/2017</td>\n",
              "      <td>00:00:00</td>\n",
              "      <td>REGULAR</td>\n",
              "      <td>6224816</td>\n",
              "      <td>2107317</td>\n",
              "    </tr>\n",
              "    <tr>\n",
              "      <th>1</th>\n",
              "      <td>A002</td>\n",
              "      <td>R051</td>\n",
              "      <td>02-00-00</td>\n",
              "      <td>59 ST</td>\n",
              "      <td>NQR456W</td>\n",
              "      <td>BMT</td>\n",
              "      <td>06/17/2017</td>\n",
              "      <td>04:00:00</td>\n",
              "      <td>REGULAR</td>\n",
              "      <td>6224850</td>\n",
              "      <td>2107322</td>\n",
              "    </tr>\n",
              "    <tr>\n",
              "      <th>2</th>\n",
              "      <td>A002</td>\n",
              "      <td>R051</td>\n",
              "      <td>02-00-00</td>\n",
              "      <td>59 ST</td>\n",
              "      <td>NQR456W</td>\n",
              "      <td>BMT</td>\n",
              "      <td>06/17/2017</td>\n",
              "      <td>08:00:00</td>\n",
              "      <td>REGULAR</td>\n",
              "      <td>6224885</td>\n",
              "      <td>2107352</td>\n",
              "    </tr>\n",
              "    <tr>\n",
              "      <th>3</th>\n",
              "      <td>A002</td>\n",
              "      <td>R051</td>\n",
              "      <td>02-00-00</td>\n",
              "      <td>59 ST</td>\n",
              "      <td>NQR456W</td>\n",
              "      <td>BMT</td>\n",
              "      <td>06/17/2017</td>\n",
              "      <td>12:00:00</td>\n",
              "      <td>REGULAR</td>\n",
              "      <td>6225005</td>\n",
              "      <td>2107452</td>\n",
              "    </tr>\n",
              "    <tr>\n",
              "      <th>4</th>\n",
              "      <td>A002</td>\n",
              "      <td>R051</td>\n",
              "      <td>02-00-00</td>\n",
              "      <td>59 ST</td>\n",
              "      <td>NQR456W</td>\n",
              "      <td>BMT</td>\n",
              "      <td>06/17/2017</td>\n",
              "      <td>16:00:00</td>\n",
              "      <td>REGULAR</td>\n",
              "      <td>6225248</td>\n",
              "      <td>2107513</td>\n",
              "    </tr>\n",
              "  </tbody>\n",
              "</table>\n",
              "</div>"
            ]
          },
          "metadata": {
            "tags": []
          },
          "execution_count": 10
        }
      ]
    },
    {
      "cell_type": "markdown",
      "metadata": {
        "id": "QKl7_GszcsBd",
        "colab_type": "text"
      },
      "source": [
        "### *Exercicio 1.4*\n",
        "\n",
        "\n",
        "Os dados do metrô de NY possui dados cumulativos de entradas e saidas por linha. Assuma que você possui um dataframe chamado df que contém apenas linhas para uma catraca em particular (unico SCP, C/A, e UNIT). A função abaixo deve alterar essas entradas cumulativas para a contagem de entradas desde a última leitura (entradas desde a última linha do dataframe).\n",
        "\n",
        "Mais especificamente, você deverá fazer duas coisas:\n",
        "\n",
        "1 - Criar uma nova coluna chamada ENTRIESn_hourly\n",
        "2 - Inserir nessa coluna a diferença enre ENTRIESn da coluna atual e a da coluna anterior. Se a linha possuir alguma NAN, preencha/substitua por 1.\n",
        "\n",
        "Dica: as funções do pandas shift() e fillna() pode ser úteis nesse exercicio.\n",
        "\n",
        "Abaixo tem um exemplo de como seu dataframe deve ficar ao final desse exercicio:\n",
        "\n",
        "        C/A  UNIT       SCP     DATEn     TIMEn    DESCn  ENTRIESn    EXITSn  ENTRIESn_hourly\n",
        "    0     A002  R051  02-00-00  05-01-11  00:00:00  REGULAR   3144312   1088151                1\n",
        "    1     A002  R051  02-00-00  05-01-11  04:00:00  REGULAR   3144335   1088159               23\n",
        "    2     A002  R051  02-00-00  05-01-11  08:00:00  REGULAR   3144353   1088177               18\n",
        "    3     A002  R051  02-00-00  05-01-11  12:00:00  REGULAR   3144424   1088231               71\n",
        "    4     A002  R051  02-00-00  05-01-11  16:00:00  REGULAR   3144594   1088275              170\n",
        "    5     A002  R051  02-00-00  05-01-11  20:00:00  REGULAR   3144808   1088317              214\n",
        "    6     A002  R051  02-00-00  05-02-11  00:00:00  REGULAR   3144895   1088328               87\n",
        "    7     A002  R051  02-00-00  05-02-11  04:00:00  REGULAR   3144905   1088331               10\n",
        "    8     A002  R051  02-00-00  05-02-11  08:00:00  REGULAR   3144941   1088420               36\n",
        "    9     A002  R051  02-00-00  05-02-11  12:00:00  REGULAR   3145094   1088753              153\n",
        "    10    A002  R051  02-00-00  05-02-11  16:00:00  REGULAR   3145337   1088823              243"
      ]
    },
    {
      "cell_type": "code",
      "metadata": {
        "id": "PumgLUn-csBg",
        "colab_type": "code",
        "outputId": "b4341153-4f6e-4bf2-c6ba-45df3cdf322b",
        "colab": {
          "base_uri": "https://localhost:8080/",
          "height": 195
        }
      },
      "source": [
        "def get_hourly_entries(df):\n",
        "    #your code here\n",
        "    df['ENTRIESn_hourly'] = pd.Series(df['ENTRIESn'] - df['ENTRIESn'].shift(1))\n",
        "    df['ENTRIESn_hourly'] = df['ENTRIESn_hourly'].fillna(1)\n",
        "    return df\n",
        "\n",
        "get_hourly_entries(master_file_filtered).head()"
      ],
      "execution_count": 11,
      "outputs": [
        {
          "output_type": "execute_result",
          "data": {
            "text/plain": [
              "    C/A  UNIT       SCP STATION  ...    DESCn ENTRIESn   EXITSn ENTRIESn_hourly\n",
              "0  A002  R051  02-00-00   59 ST  ...  REGULAR  6224816  2107317             1.0\n",
              "1  A002  R051  02-00-00   59 ST  ...  REGULAR  6224850  2107322            34.0\n",
              "2  A002  R051  02-00-00   59 ST  ...  REGULAR  6224885  2107352            35.0\n",
              "3  A002  R051  02-00-00   59 ST  ...  REGULAR  6225005  2107452           120.0\n",
              "4  A002  R051  02-00-00   59 ST  ...  REGULAR  6225248  2107513           243.0\n",
              "\n",
              "[5 rows x 12 columns]"
            ],
            "text/html": [
              "<div>\n",
              "<style scoped>\n",
              "    .dataframe tbody tr th:only-of-type {\n",
              "        vertical-align: middle;\n",
              "    }\n",
              "\n",
              "    .dataframe tbody tr th {\n",
              "        vertical-align: top;\n",
              "    }\n",
              "\n",
              "    .dataframe thead th {\n",
              "        text-align: right;\n",
              "    }\n",
              "</style>\n",
              "<table border=\"1\" class=\"dataframe\">\n",
              "  <thead>\n",
              "    <tr style=\"text-align: right;\">\n",
              "      <th></th>\n",
              "      <th>C/A</th>\n",
              "      <th>UNIT</th>\n",
              "      <th>SCP</th>\n",
              "      <th>STATION</th>\n",
              "      <th>LINENAME</th>\n",
              "      <th>DIVISION</th>\n",
              "      <th>DATEn</th>\n",
              "      <th>TIMEn</th>\n",
              "      <th>DESCn</th>\n",
              "      <th>ENTRIESn</th>\n",
              "      <th>EXITSn</th>\n",
              "      <th>ENTRIESn_hourly</th>\n",
              "    </tr>\n",
              "  </thead>\n",
              "  <tbody>\n",
              "    <tr>\n",
              "      <th>0</th>\n",
              "      <td>A002</td>\n",
              "      <td>R051</td>\n",
              "      <td>02-00-00</td>\n",
              "      <td>59 ST</td>\n",
              "      <td>NQR456W</td>\n",
              "      <td>BMT</td>\n",
              "      <td>06/17/2017</td>\n",
              "      <td>00:00:00</td>\n",
              "      <td>REGULAR</td>\n",
              "      <td>6224816</td>\n",
              "      <td>2107317</td>\n",
              "      <td>1.0</td>\n",
              "    </tr>\n",
              "    <tr>\n",
              "      <th>1</th>\n",
              "      <td>A002</td>\n",
              "      <td>R051</td>\n",
              "      <td>02-00-00</td>\n",
              "      <td>59 ST</td>\n",
              "      <td>NQR456W</td>\n",
              "      <td>BMT</td>\n",
              "      <td>06/17/2017</td>\n",
              "      <td>04:00:00</td>\n",
              "      <td>REGULAR</td>\n",
              "      <td>6224850</td>\n",
              "      <td>2107322</td>\n",
              "      <td>34.0</td>\n",
              "    </tr>\n",
              "    <tr>\n",
              "      <th>2</th>\n",
              "      <td>A002</td>\n",
              "      <td>R051</td>\n",
              "      <td>02-00-00</td>\n",
              "      <td>59 ST</td>\n",
              "      <td>NQR456W</td>\n",
              "      <td>BMT</td>\n",
              "      <td>06/17/2017</td>\n",
              "      <td>08:00:00</td>\n",
              "      <td>REGULAR</td>\n",
              "      <td>6224885</td>\n",
              "      <td>2107352</td>\n",
              "      <td>35.0</td>\n",
              "    </tr>\n",
              "    <tr>\n",
              "      <th>3</th>\n",
              "      <td>A002</td>\n",
              "      <td>R051</td>\n",
              "      <td>02-00-00</td>\n",
              "      <td>59 ST</td>\n",
              "      <td>NQR456W</td>\n",
              "      <td>BMT</td>\n",
              "      <td>06/17/2017</td>\n",
              "      <td>12:00:00</td>\n",
              "      <td>REGULAR</td>\n",
              "      <td>6225005</td>\n",
              "      <td>2107452</td>\n",
              "      <td>120.0</td>\n",
              "    </tr>\n",
              "    <tr>\n",
              "      <th>4</th>\n",
              "      <td>A002</td>\n",
              "      <td>R051</td>\n",
              "      <td>02-00-00</td>\n",
              "      <td>59 ST</td>\n",
              "      <td>NQR456W</td>\n",
              "      <td>BMT</td>\n",
              "      <td>06/17/2017</td>\n",
              "      <td>16:00:00</td>\n",
              "      <td>REGULAR</td>\n",
              "      <td>6225248</td>\n",
              "      <td>2107513</td>\n",
              "      <td>243.0</td>\n",
              "    </tr>\n",
              "  </tbody>\n",
              "</table>\n",
              "</div>"
            ]
          },
          "metadata": {
            "tags": []
          },
          "execution_count": 11
        }
      ]
    },
    {
      "cell_type": "markdown",
      "metadata": {
        "id": "-H8xghiBcsBu",
        "colab_type": "text"
      },
      "source": [
        "### *Exercicio 1.5*\n",
        "\n",
        "Faça o mesmo do exercicio anterior mas agora considerando as saidas, coluna EXITSn.\n",
        "Para isso crie uma coluna chamada de EXITSn_hourly e insira a diferença entre a coluna EXITSn da linha atual versus a linha anterior. Se tiver algum NaN, preencha/substitua por 0.\n",
        "\n"
      ]
    },
    {
      "cell_type": "code",
      "metadata": {
        "id": "soYjXklqcsBx",
        "colab_type": "code",
        "outputId": "7b069881-d4a8-4df7-fa6b-9e72e9b6fd69",
        "colab": {
          "base_uri": "https://localhost:8080/",
          "height": 195
        }
      },
      "source": [
        "def get_hourly_exits(df):\n",
        "    \n",
        "    #your code here\n",
        "    df['EXITSn_hourly'] = pd.Series(df['EXITSn'] - df['EXITSn'].shift(1))\n",
        "    df['EXITSn_hourly'] = df['EXITSn_hourly'].fillna(0)\n",
        "\n",
        "    return df\n",
        "\n",
        "get_hourly_exits(master_file_filtered).head()"
      ],
      "execution_count": 12,
      "outputs": [
        {
          "output_type": "execute_result",
          "data": {
            "text/plain": [
              "    C/A  UNIT       SCP  ...   EXITSn ENTRIESn_hourly EXITSn_hourly\n",
              "0  A002  R051  02-00-00  ...  2107317             1.0           0.0\n",
              "1  A002  R051  02-00-00  ...  2107322            34.0           5.0\n",
              "2  A002  R051  02-00-00  ...  2107352            35.0          30.0\n",
              "3  A002  R051  02-00-00  ...  2107452           120.0         100.0\n",
              "4  A002  R051  02-00-00  ...  2107513           243.0          61.0\n",
              "\n",
              "[5 rows x 13 columns]"
            ],
            "text/html": [
              "<div>\n",
              "<style scoped>\n",
              "    .dataframe tbody tr th:only-of-type {\n",
              "        vertical-align: middle;\n",
              "    }\n",
              "\n",
              "    .dataframe tbody tr th {\n",
              "        vertical-align: top;\n",
              "    }\n",
              "\n",
              "    .dataframe thead th {\n",
              "        text-align: right;\n",
              "    }\n",
              "</style>\n",
              "<table border=\"1\" class=\"dataframe\">\n",
              "  <thead>\n",
              "    <tr style=\"text-align: right;\">\n",
              "      <th></th>\n",
              "      <th>C/A</th>\n",
              "      <th>UNIT</th>\n",
              "      <th>SCP</th>\n",
              "      <th>STATION</th>\n",
              "      <th>LINENAME</th>\n",
              "      <th>DIVISION</th>\n",
              "      <th>DATEn</th>\n",
              "      <th>TIMEn</th>\n",
              "      <th>DESCn</th>\n",
              "      <th>ENTRIESn</th>\n",
              "      <th>EXITSn</th>\n",
              "      <th>ENTRIESn_hourly</th>\n",
              "      <th>EXITSn_hourly</th>\n",
              "    </tr>\n",
              "  </thead>\n",
              "  <tbody>\n",
              "    <tr>\n",
              "      <th>0</th>\n",
              "      <td>A002</td>\n",
              "      <td>R051</td>\n",
              "      <td>02-00-00</td>\n",
              "      <td>59 ST</td>\n",
              "      <td>NQR456W</td>\n",
              "      <td>BMT</td>\n",
              "      <td>06/17/2017</td>\n",
              "      <td>00:00:00</td>\n",
              "      <td>REGULAR</td>\n",
              "      <td>6224816</td>\n",
              "      <td>2107317</td>\n",
              "      <td>1.0</td>\n",
              "      <td>0.0</td>\n",
              "    </tr>\n",
              "    <tr>\n",
              "      <th>1</th>\n",
              "      <td>A002</td>\n",
              "      <td>R051</td>\n",
              "      <td>02-00-00</td>\n",
              "      <td>59 ST</td>\n",
              "      <td>NQR456W</td>\n",
              "      <td>BMT</td>\n",
              "      <td>06/17/2017</td>\n",
              "      <td>04:00:00</td>\n",
              "      <td>REGULAR</td>\n",
              "      <td>6224850</td>\n",
              "      <td>2107322</td>\n",
              "      <td>34.0</td>\n",
              "      <td>5.0</td>\n",
              "    </tr>\n",
              "    <tr>\n",
              "      <th>2</th>\n",
              "      <td>A002</td>\n",
              "      <td>R051</td>\n",
              "      <td>02-00-00</td>\n",
              "      <td>59 ST</td>\n",
              "      <td>NQR456W</td>\n",
              "      <td>BMT</td>\n",
              "      <td>06/17/2017</td>\n",
              "      <td>08:00:00</td>\n",
              "      <td>REGULAR</td>\n",
              "      <td>6224885</td>\n",
              "      <td>2107352</td>\n",
              "      <td>35.0</td>\n",
              "      <td>30.0</td>\n",
              "    </tr>\n",
              "    <tr>\n",
              "      <th>3</th>\n",
              "      <td>A002</td>\n",
              "      <td>R051</td>\n",
              "      <td>02-00-00</td>\n",
              "      <td>59 ST</td>\n",
              "      <td>NQR456W</td>\n",
              "      <td>BMT</td>\n",
              "      <td>06/17/2017</td>\n",
              "      <td>12:00:00</td>\n",
              "      <td>REGULAR</td>\n",
              "      <td>6225005</td>\n",
              "      <td>2107452</td>\n",
              "      <td>120.0</td>\n",
              "      <td>100.0</td>\n",
              "    </tr>\n",
              "    <tr>\n",
              "      <th>4</th>\n",
              "      <td>A002</td>\n",
              "      <td>R051</td>\n",
              "      <td>02-00-00</td>\n",
              "      <td>59 ST</td>\n",
              "      <td>NQR456W</td>\n",
              "      <td>BMT</td>\n",
              "      <td>06/17/2017</td>\n",
              "      <td>16:00:00</td>\n",
              "      <td>REGULAR</td>\n",
              "      <td>6225248</td>\n",
              "      <td>2107513</td>\n",
              "      <td>243.0</td>\n",
              "      <td>61.0</td>\n",
              "    </tr>\n",
              "  </tbody>\n",
              "</table>\n",
              "</div>"
            ]
          },
          "metadata": {
            "tags": []
          },
          "execution_count": 12
        }
      ]
    },
    {
      "cell_type": "markdown",
      "metadata": {
        "id": "p7njgcB-csCE",
        "colab_type": "text"
      },
      "source": [
        "### *Exercicio 1.6*\n",
        "\n",
        "Dado uma variável de entrada que representa o tempo no formato de:\n",
        "     \"00:00:00\" (hora: minutos: segundos)\n",
        "    \n",
        "Escreva uma função para extrair a parte da hora do tempo variável de entrada\n",
        "E devolva-o como um número inteiro. Por exemplo:\n",
        "         \n",
        "         1) se a hora for 00, seu código deve retornar 0\n",
        "         2) se a hora for 01, seu código deve retornar 1\n",
        "         3) se a hora for 21, seu código deve retornar 21\n",
        "        \n",
        "Por favor, devolva a hora como um número inteiro.\n"
      ]
    },
    {
      "cell_type": "code",
      "metadata": {
        "id": "joteA0excsCH",
        "colab_type": "code",
        "outputId": "8f26d4fa-84f9-4491-cabe-ee42856be96f",
        "colab": {
          "base_uri": "https://localhost:8080/",
          "height": 134
        }
      },
      "source": [
        "def time_to_hour(time):\n",
        "    \n",
        "    hour = int(time[0:2])\n",
        "    return hour\n",
        "\n",
        "#testes da função\n",
        "if True:\n",
        "    i = 0\n",
        "    for i in range(5):\n",
        "        print master_file_filtered['TIMEn'][i], '-->', time_to_hour(master_file_filtered['TIMEn'][i])\n",
        "        i += 1\n",
        "    print '01:01:01', '-->', time_to_hour('01:01:01')\n",
        "    print '10:10:10', '-->', time_to_hour('10:10:10')"
      ],
      "execution_count": 13,
      "outputs": [
        {
          "output_type": "stream",
          "text": [
            "00:00:00 --> 0\n",
            "04:00:00 --> 4\n",
            "08:00:00 --> 8\n",
            "12:00:00 --> 12\n",
            "16:00:00 --> 16\n",
            "01:01:01 --> 1\n",
            "10:10:10 --> 10\n"
          ],
          "name": "stdout"
        }
      ]
    },
    {
      "cell_type": "markdown",
      "metadata": {
        "id": "ZcMaRh1kcsCU",
        "colab_type": "text"
      },
      "source": [
        "## Exercicio 2 - Análise dos dados\n",
        "\n",
        "### *Exercicio 2.1*\n",
        "\n",
        "Para verificar a relação entre o movimento do metrô e o clima, precisaremos complementar os dados do arquivo já baixado com os dados do clima.\n",
        "Nós complementamos para você este arquivo com os dados de clima de Nova Iorque  e disponibilizamos na área de materiais do projeto. Você pode acessa-lo pelo link: https://s3.amazonaws.com/content.udacity-data.com/courses/ud359/turnstile_data_master_with_weather.csv\n",
        "\n",
        "Agora que temos nossos dados em um arquivo csv, escreva um código python que leia este arquivo e salve-o em um data frame do pandas. \n",
        "\n",
        "Dica: \n",
        "\n",
        "Utilize o comando abaixo para ler o arquivo:\n",
        "\n",
        "```python\n",
        "pd.read_csv('output_list.txt', sep=\",\")\n",
        "```\n",
        "\n"
      ]
    },
    {
      "cell_type": "code",
      "metadata": {
        "scrolled": false,
        "id": "bLZEB4mAcsCX",
        "colab_type": "code",
        "outputId": "8c0ccb95-034f-4410-abac-efc6628b74e5",
        "colab": {
          "base_uri": "https://localhost:8080/",
          "height": 333
        }
      },
      "source": [
        "filename = \"data/turnstile_data_master_with_weather.csv\"\n",
        "\n",
        "#your code here\n",
        "\n",
        "input_data = pd.read_csv(filename, sep=',')\n",
        "df_with_weather = pd.DataFrame(input_data)\n",
        "\n",
        "df_with_weather.head()"
      ],
      "execution_count": 19,
      "outputs": [
        {
          "output_type": "stream",
          "text": [
            "Drive already mounted at /drive; to attempt to forcibly remount, call drive.mount(\"/drive\", force_remount=True).\n"
          ],
          "name": "stdout"
        },
        {
          "output_type": "execute_result",
          "data": {
            "text/plain": [
              "   Unnamed: 0  UNIT       DATEn  ... maxtempi  precipi thunder\n",
              "0           0  R001  2011-05-01  ...     69.0      0.0     0.0\n",
              "1           1  R001  2011-05-01  ...     69.0      0.0     0.0\n",
              "2           2  R001  2011-05-01  ...     69.0      0.0     0.0\n",
              "3           3  R001  2011-05-01  ...     69.0      0.0     0.0\n",
              "4           4  R001  2011-05-01  ...     69.0      0.0     0.0\n",
              "\n",
              "[5 rows x 22 columns]"
            ],
            "text/html": [
              "<div>\n",
              "<style scoped>\n",
              "    .dataframe tbody tr th:only-of-type {\n",
              "        vertical-align: middle;\n",
              "    }\n",
              "\n",
              "    .dataframe tbody tr th {\n",
              "        vertical-align: top;\n",
              "    }\n",
              "\n",
              "    .dataframe thead th {\n",
              "        text-align: right;\n",
              "    }\n",
              "</style>\n",
              "<table border=\"1\" class=\"dataframe\">\n",
              "  <thead>\n",
              "    <tr style=\"text-align: right;\">\n",
              "      <th></th>\n",
              "      <th>Unnamed: 0</th>\n",
              "      <th>UNIT</th>\n",
              "      <th>DATEn</th>\n",
              "      <th>TIMEn</th>\n",
              "      <th>Hour</th>\n",
              "      <th>DESCn</th>\n",
              "      <th>ENTRIESn_hourly</th>\n",
              "      <th>EXITSn_hourly</th>\n",
              "      <th>maxpressurei</th>\n",
              "      <th>maxdewpti</th>\n",
              "      <th>mindewpti</th>\n",
              "      <th>minpressurei</th>\n",
              "      <th>meandewpti</th>\n",
              "      <th>meanpressurei</th>\n",
              "      <th>fog</th>\n",
              "      <th>rain</th>\n",
              "      <th>meanwindspdi</th>\n",
              "      <th>mintempi</th>\n",
              "      <th>meantempi</th>\n",
              "      <th>maxtempi</th>\n",
              "      <th>precipi</th>\n",
              "      <th>thunder</th>\n",
              "    </tr>\n",
              "  </thead>\n",
              "  <tbody>\n",
              "    <tr>\n",
              "      <th>0</th>\n",
              "      <td>0</td>\n",
              "      <td>R001</td>\n",
              "      <td>2011-05-01</td>\n",
              "      <td>01:00:00</td>\n",
              "      <td>1</td>\n",
              "      <td>REGULAR</td>\n",
              "      <td>0.0</td>\n",
              "      <td>0.0</td>\n",
              "      <td>30.31</td>\n",
              "      <td>42.0</td>\n",
              "      <td>35.0</td>\n",
              "      <td>30.23</td>\n",
              "      <td>39.0</td>\n",
              "      <td>30.27</td>\n",
              "      <td>0.0</td>\n",
              "      <td>0.0</td>\n",
              "      <td>5.0</td>\n",
              "      <td>50.0</td>\n",
              "      <td>60.0</td>\n",
              "      <td>69.0</td>\n",
              "      <td>0.0</td>\n",
              "      <td>0.0</td>\n",
              "    </tr>\n",
              "    <tr>\n",
              "      <th>1</th>\n",
              "      <td>1</td>\n",
              "      <td>R001</td>\n",
              "      <td>2011-05-01</td>\n",
              "      <td>05:00:00</td>\n",
              "      <td>5</td>\n",
              "      <td>REGULAR</td>\n",
              "      <td>217.0</td>\n",
              "      <td>553.0</td>\n",
              "      <td>30.31</td>\n",
              "      <td>42.0</td>\n",
              "      <td>35.0</td>\n",
              "      <td>30.23</td>\n",
              "      <td>39.0</td>\n",
              "      <td>30.27</td>\n",
              "      <td>0.0</td>\n",
              "      <td>0.0</td>\n",
              "      <td>5.0</td>\n",
              "      <td>50.0</td>\n",
              "      <td>60.0</td>\n",
              "      <td>69.0</td>\n",
              "      <td>0.0</td>\n",
              "      <td>0.0</td>\n",
              "    </tr>\n",
              "    <tr>\n",
              "      <th>2</th>\n",
              "      <td>2</td>\n",
              "      <td>R001</td>\n",
              "      <td>2011-05-01</td>\n",
              "      <td>09:00:00</td>\n",
              "      <td>9</td>\n",
              "      <td>REGULAR</td>\n",
              "      <td>890.0</td>\n",
              "      <td>1262.0</td>\n",
              "      <td>30.31</td>\n",
              "      <td>42.0</td>\n",
              "      <td>35.0</td>\n",
              "      <td>30.23</td>\n",
              "      <td>39.0</td>\n",
              "      <td>30.27</td>\n",
              "      <td>0.0</td>\n",
              "      <td>0.0</td>\n",
              "      <td>5.0</td>\n",
              "      <td>50.0</td>\n",
              "      <td>60.0</td>\n",
              "      <td>69.0</td>\n",
              "      <td>0.0</td>\n",
              "      <td>0.0</td>\n",
              "    </tr>\n",
              "    <tr>\n",
              "      <th>3</th>\n",
              "      <td>3</td>\n",
              "      <td>R001</td>\n",
              "      <td>2011-05-01</td>\n",
              "      <td>13:00:00</td>\n",
              "      <td>13</td>\n",
              "      <td>REGULAR</td>\n",
              "      <td>2451.0</td>\n",
              "      <td>3708.0</td>\n",
              "      <td>30.31</td>\n",
              "      <td>42.0</td>\n",
              "      <td>35.0</td>\n",
              "      <td>30.23</td>\n",
              "      <td>39.0</td>\n",
              "      <td>30.27</td>\n",
              "      <td>0.0</td>\n",
              "      <td>0.0</td>\n",
              "      <td>5.0</td>\n",
              "      <td>50.0</td>\n",
              "      <td>60.0</td>\n",
              "      <td>69.0</td>\n",
              "      <td>0.0</td>\n",
              "      <td>0.0</td>\n",
              "    </tr>\n",
              "    <tr>\n",
              "      <th>4</th>\n",
              "      <td>4</td>\n",
              "      <td>R001</td>\n",
              "      <td>2011-05-01</td>\n",
              "      <td>17:00:00</td>\n",
              "      <td>17</td>\n",
              "      <td>REGULAR</td>\n",
              "      <td>4400.0</td>\n",
              "      <td>2501.0</td>\n",
              "      <td>30.31</td>\n",
              "      <td>42.0</td>\n",
              "      <td>35.0</td>\n",
              "      <td>30.23</td>\n",
              "      <td>39.0</td>\n",
              "      <td>30.27</td>\n",
              "      <td>0.0</td>\n",
              "      <td>0.0</td>\n",
              "      <td>5.0</td>\n",
              "      <td>50.0</td>\n",
              "      <td>60.0</td>\n",
              "      <td>69.0</td>\n",
              "      <td>0.0</td>\n",
              "      <td>0.0</td>\n",
              "    </tr>\n",
              "  </tbody>\n",
              "</table>\n",
              "</div>"
            ]
          },
          "metadata": {
            "tags": []
          },
          "execution_count": 19
        }
      ]
    },
    {
      "cell_type": "markdown",
      "metadata": {
        "id": "WlpTUpHacsCo",
        "colab_type": "text"
      },
      "source": [
        "### *Exercicio 2.2*\n",
        "\n",
        "Agora crie uma função que calcule a quantidade de dias chuvosos, para isso retorne a contagem do numero de dias onde a coluna *\"rain\"* é igual a 1.\n",
        "\n",
        "Dica: Você também pode achar que a interpretação de números como números inteiros ou float pode não\n",
        "     funcionar inicialmente. Para contornar esta questão, pode ser útil converter\n",
        "     esses números para números inteiros. Isso pode ser feito escrevendo cast (coluna como inteiro).\n",
        "     Então, por exemplo, se queríamos lançar a coluna maxtempi como um número inteiro, nós devemos\n",
        "     escrever algo como cast (maxtempi as integer) = 76, em oposição a simplesmente\n",
        "     onde maxtempi = 76."
      ]
    },
    {
      "cell_type": "code",
      "metadata": {
        "id": "eRxHriVUcsCs",
        "colab_type": "code",
        "colab": {
          "base_uri": "https://localhost:8080/",
          "height": 34
        },
        "outputId": "35c4c2bc-1228-470b-9d91-14db04dda2a3"
      },
      "source": [
        "def num_rainy_days(df):\n",
        "    \n",
        "    #your code here \n",
        "    \n",
        "    #converte os valores da coluna 'rain' para números inteiros.    \n",
        "    df['rain'] = pd.Series(df['rain']).astype(int)\n",
        "    #cria novo df filtrado, somente com registros dos dias chuvosos.\n",
        "    rainy_df = df.loc[df['rain'] == 1]\n",
        "    #novo df com registros agrupados por dias chuvosos.\n",
        "    rainy_days_count = rainy_df.groupby(by='DATEn')\n",
        "    #retorna a contagem das linhas do novo df (número de dias chuvosos).\n",
        "    return len(rainy_days_count)\n",
        "\n",
        "num_rainy_days(df_with_weather)"
      ],
      "execution_count": 20,
      "outputs": [
        {
          "output_type": "execute_result",
          "data": {
            "text/plain": [
              "10"
            ]
          },
          "metadata": {
            "tags": []
          },
          "execution_count": 20
        }
      ]
    },
    {
      "cell_type": "markdown",
      "metadata": {
        "id": "XzQgu0LzcsC6",
        "colab_type": "text"
      },
      "source": [
        "### *Exercicio 2.3*\n",
        "\n",
        "Calcule se estava nebuloso ou não (0 ou 1) e a temperatura máxima para fog (isto é, a temperatura máxima \n",
        "     para dias nebulosos)."
      ]
    },
    {
      "cell_type": "code",
      "metadata": {
        "id": "aIrWAumocsC8",
        "colab_type": "code",
        "colab": {
          "base_uri": "https://localhost:8080/",
          "height": 34
        },
        "outputId": "fa271a86-e143-40dc-d06d-c1122ba8465d"
      },
      "source": [
        "def max_temp_aggregate_by_fog(df):\n",
        "    \n",
        "    #your code here \n",
        "    fog_count = pd.Series(df['fog']).astype(int).sum()\n",
        "    max_temp = max(df.loc[df['fog'] == 1]['maxtempi'])\n",
        "    return fog_count, max_temp\n",
        "\n",
        "max_temp_aggregate_by_fog(df_with_weather)"
      ],
      "execution_count": 21,
      "outputs": [
        {
          "output_type": "execute_result",
          "data": {
            "text/plain": [
              "(22049, 81.0)"
            ]
          },
          "metadata": {
            "tags": []
          },
          "execution_count": 21
        }
      ]
    },
    {
      "cell_type": "markdown",
      "metadata": {
        "id": "EQhxzyWVcsDM",
        "colab_type": "text"
      },
      "source": [
        "### *Exercicio 2.4\n",
        "\n",
        "Calcule agora a média de 'meantempi' nos dias que são sábado ou domingo (finais de semana):"
      ]
    },
    {
      "cell_type": "code",
      "metadata": {
        "id": "n3JVRSP1csDO",
        "colab_type": "code",
        "colab": {
          "base_uri": "https://localhost:8080/",
          "height": 84
        },
        "outputId": "f98b5ab3-aeab-4b55-a13e-7dd706af5bc0"
      },
      "source": [
        "def avg_weekend_temperature(filename):\n",
        "    df_summarized = pd.DataFrame(pd.to_datetime(filename['DATEn']))\n",
        "    df_summarized['meantempi'] = filename['meantempi']\n",
        "    df_summarized['weekday'] = df_summarized['DATEn'].dt.dayofweek\n",
        "    avg_wkday_temp = df_summarized.groupby(by='weekday', as_index=False)['meantempi'].mean()\n",
        "    avg_wknd_temp = avg_wkday_temp.loc[avg_wkday_temp['weekday'] > 4]\n",
        "    if True:\n",
        "        print \"Temperatura média de sábado: \", round(avg_wknd_temp['meantempi'][5],2)\n",
        "        print \"Temperatura média de domingo: \", round(avg_wknd_temp['meantempi'][6],2)\n",
        "        print \"Temperatura média dos find's ([média sábados + média domingos] / 2): \", round(avg_wknd_temp['meantempi'].mean(),2)\n",
        "    return avg_wknd_temp['meantempi'].mean()\n",
        "\n",
        "avg_weekend_temperature(df_with_weather)"
      ],
      "execution_count": 22,
      "outputs": [
        {
          "output_type": "stream",
          "text": [
            "Temperatura média de sábado:  67.02\n",
            "Temperatura média de domingo:  63.57\n",
            "Temperatura média dos find's ([média sábados + média domingos] / 2):  65.3\n"
          ],
          "name": "stdout"
        },
        {
          "output_type": "execute_result",
          "data": {
            "text/plain": [
              "65.29704514873305"
            ]
          },
          "metadata": {
            "tags": []
          },
          "execution_count": 22
        }
      ]
    },
    {
      "cell_type": "markdown",
      "metadata": {
        "id": "XGs_TXDfcsDb",
        "colab_type": "text"
      },
      "source": [
        "### *Exercicio 2.5\n",
        "\n",
        "Calcule a média da temperatura mínima 'mintempi' nos dias chuvosos onde da temperatura mínima foi maior que do 55 graus:"
      ]
    },
    {
      "cell_type": "code",
      "metadata": {
        "id": "oCViU3vecsDd",
        "colab_type": "code",
        "colab": {
          "base_uri": "https://localhost:8080/",
          "height": 34
        },
        "outputId": "2507222d-2595-46b6-812c-fd7203337500"
      },
      "source": [
        "def avg_min_temperature(filename):\n",
        "    df_rain_days = filename.loc[filename['rain'] == 1]\n",
        "    df_mintemp_up_55 = df_rain_days.loc[df_rain_days['mintempi'] > 55]\n",
        "    avg_min_temp_rainy = df_mintemp_up_55['mintempi'].mean()\n",
        "    return avg_min_temp_rainy\n",
        "\n",
        "avg_min_temperature(df_with_weather)"
      ],
      "execution_count": 23,
      "outputs": [
        {
          "output_type": "execute_result",
          "data": {
            "text/plain": [
              "61.238860398860396"
            ]
          },
          "metadata": {
            "tags": []
          },
          "execution_count": 23
        }
      ]
    },
    {
      "cell_type": "markdown",
      "metadata": {
        "id": "rixqWXbXcsDq",
        "colab_type": "text"
      },
      "source": [
        "### *Exercicio 2.6\n",
        "\n",
        "Antes de realizar qualquer análise, pode ser útil olhar para os dados que esperamos analisar. Mais especificamente, vamos examinR as entradas por hora em nossos dados do metrô de Nova York para determinar a distribuição dos dados. Estes dados são armazenados na coluna ['ENTRIESn_hourly'].\n",
        "    \n",
        "Trace dois histogramas nos mesmos eixos para mostrar as entradas quando esta chovendo vs quando não está chovendo. \n",
        "Abaixo está um exemplo sobre como traçar histogramas com pandas e matplotlib:\n",
        "     \n",
        "```python\n",
        "Turnstile_weather ['column_to_graph']. Hist ()\n",
        "```   \n",
        "    "
      ]
    },
    {
      "cell_type": "code",
      "metadata": {
        "id": "tQwhtUPacsDs",
        "colab_type": "code",
        "colab": {
          "base_uri": "https://localhost:8080/",
          "height": 573
        },
        "outputId": "effaa480-3076-49cd-cc4b-bbd9ac473967"
      },
      "source": [
        "%matplotlib inline\n",
        "import matplotlib.pyplot as plt\n",
        "\n",
        "def entries_histogram(turnstile_weather):\n",
        "    \n",
        "    plt.figure()\n",
        "    turnstile_weather[turnstile_weather.rain == 0]['ENTRIESn_hourly'].hist(bins=30, alpha = 0.7, color='orange',\\\n",
        "    label='No rain days')# your code here to plot a histogram for hourly entries when it is not raining\n",
        "    turnstile_weather[turnstile_weather.rain == 1]['ENTRIESn_hourly'].hist(bins=30, alpha = 0.7, color='grey',\\\n",
        "    label='Rainy days')# your code here to plot a historgram for hourly entries when it is raining\n",
        "    plt.legend()\n",
        "    plt.xlabel('Hourly Entries')\n",
        "    plt.ylabel('Data Points')\n",
        "    plt.title('HISTOGRAMA ORIGINAL:')\n",
        "    plt.show\n",
        "\n",
        "    plt.figure()\n",
        "    turnstile_weather[turnstile_weather.rain == 0]['ENTRIESn_hourly'].hist(bins=25, range=[0,3000], alpha = 0.7, color='orange',\\\n",
        "    label='No rain days')# your code here to plot a histogram for hourly entries when it is not raining\n",
        "    turnstile_weather[turnstile_weather.rain == 1]['ENTRIESn_hourly'].hist(bins=25, range=[0,3000], alpha = 0.7, color='grey',\\\n",
        "    label='Rainy days')# your code here to plot a historgram for hourly entries when it is raining\n",
        "    plt.legend()\n",
        "    plt.xlabel('Hourly Entries')\n",
        "    plt.ylabel('Data Points')\n",
        "    plt.title('ZOOM NO HISTOGRAMA:')\n",
        "    plt.show\n",
        "\n",
        "entries_histogram(df_with_weather)\n",
        "\n"
      ],
      "execution_count": 24,
      "outputs": [
        {
          "output_type": "display_data",
          "data": {
            "image/png": "[encoded data removed]",
            "text/plain": [
              "<Figure size 432x288 with 1 Axes>"
            ]
          },
          "metadata": {
            "tags": [],
            "needs_background": "light"
          }
        },
        {
          "output_type": "display_data",
          "data": {
            "image/png": "[encoded data removed]",
            "text/plain": [
              "<Figure size 432x288 with 1 Axes>"
            ]
          },
          "metadata": {
            "tags": [],
            "needs_background": "light"
          }
        }
      ]
    },
    {
      "cell_type": "markdown",
      "metadata": {
        "id": "x8PT00AOcsD5",
        "colab_type": "text"
      },
      "source": [
        "### *Exercicio 2.7\n",
        "\n",
        "Os dados que acabou de plotar que tipo de ditribuição? Existe diferença na distribuição entre dias chuvosos e não chuvosos?"
      ]
    },
    {
      "cell_type": "markdown",
      "metadata": {
        "id": "YWWGLxz5csD7",
        "colab_type": "text"
      },
      "source": [
        "** Resposta **:\n",
        "<p>Ambas as distribuições são assimétricas positivas, dados os formatos das plotagens e visto também que as sequências dos parâmetros no eixo x nos gráficos, da esquerda para a direita, são, respectivamente: moda, mediana e média. A célula abaixo ajuda no raciocínio, apresentando as estatísticas de cada um dos grupos de dados, assim como também é útil para responder à segunda questão (diferenças entre as distribuições), confome segue.</p>"
      ]
    },
    {
      "cell_type": "code",
      "metadata": {
        "id": "TtfPs-pDcsD-",
        "colab_type": "code",
        "colab": {
          "base_uri": "https://localhost:8080/",
          "height": 370
        },
        "outputId": "871abc39-3340-4362-cee0-44500629eda8"
      },
      "source": [
        "raindf = pd.DataFrame(df_with_weather[df_with_weather['rain'] == 1]['ENTRIESn_hourly']).describe()\n",
        "noraindf = pd.DataFrame(df_with_weather[df_with_weather['rain'] == 0]['ENTRIESn_hourly']).describe()\n",
        "\n",
        "print 'RAIN STATS:'\n",
        "print raindf\n",
        "print ''\n",
        "print 'NO RAIN STATS:'\n",
        "print noraindf"
      ],
      "execution_count": 25,
      "outputs": [
        {
          "output_type": "stream",
          "text": [
            "RAIN STATS:\n",
            "       ENTRIESn_hourly\n",
            "count     44104.000000\n",
            "mean       1105.446377\n",
            "std        2370.527674\n",
            "min           0.000000\n",
            "25%          41.000000\n",
            "50%         282.000000\n",
            "75%        1103.250000\n",
            "max       51839.000000\n",
            "\n",
            "NO RAIN STATS:\n",
            "       ENTRIESn_hourly\n",
            "count     87847.000000\n",
            "mean       1090.278780\n",
            "std        2320.004938\n",
            "min           0.000000\n",
            "25%          38.000000\n",
            "50%         278.000000\n",
            "75%        1111.000000\n",
            "max       43199.000000\n"
          ],
          "name": "stdout"
        }
      ]
    },
    {
      "cell_type": "markdown",
      "metadata": {
        "id": "YFBbd6OWcsEK",
        "colab_type": "text"
      },
      "source": [
        "<p>A quantidade de registros de entradas por hora é muito superior nos dias sem chuva (quase o dobro). Faz sentido a relação desses números com o fato de as catracas provavelmente serem mais ociosas em dias chuvosos: as pessoas usam menos o sistema ou aguardam para usá-lo assim que a chuva passar.</p>\n",
        "<p>Outra diferença, mais curiosa, está na amplitude do intervalo de 'ENTRIESn_hourly': <b><font color=red>o VALOR MÁXIMO para 'Hourly Entries' (número de entradas, eixo x)</font></b> é maior em dias chuvosos do que em dias sem chuva (51839 versus 43199), assim como o primeiro e o segundo quartis.</p>\n",
        "<p>O número máximo de entradas para dias chuvosos ocorre no dia 19 de maio de 2011, uma quinta-feira, conforme demonstra a célula a seguir. Ao procurar por eventos, feriados ou datas especiais em NYC para este dia e o dia seguinte, não encontrei nada que pudesse justificar esse movimento. Além disso, o horário do data point diz respeito a um período que não é necessariamente compatível com um horário padrão de saída do trabalho, por exemplo.</p>\n",
        "<p>Uma análise mais profunda dos dados (obviamente, com mais tempo disponível), bem como um entendimento maior dos fatores/eventos externos pode revelar os porquês dessas diferenças."
      ]
    },
    {
      "cell_type": "code",
      "metadata": {
        "id": "cCK8KVY2csER",
        "colab_type": "code",
        "colab": {
          "base_uri": "https://localhost:8080/",
          "height": 130
        },
        "outputId": "47e891f3-dcce-4f89-88e1-72a448511a42"
      },
      "source": [
        "df_with_weather.loc[df_with_weather['ENTRIESn_hourly'] == 51839]"
      ],
      "execution_count": 26,
      "outputs": [
        {
          "output_type": "execute_result",
          "data": {
            "text/plain": [
              "       Unnamed: 0  UNIT       DATEn  ... maxtempi  precipi thunder\n",
              "80304       80304  R170  2011-05-19  ...     75.0     0.07     0.0\n",
              "\n",
              "[1 rows x 22 columns]"
            ],
            "text/html": [
              "<div>\n",
              "<style scoped>\n",
              "    .dataframe tbody tr th:only-of-type {\n",
              "        vertical-align: middle;\n",
              "    }\n",
              "\n",
              "    .dataframe tbody tr th {\n",
              "        vertical-align: top;\n",
              "    }\n",
              "\n",
              "    .dataframe thead th {\n",
              "        text-align: right;\n",
              "    }\n",
              "</style>\n",
              "<table border=\"1\" class=\"dataframe\">\n",
              "  <thead>\n",
              "    <tr style=\"text-align: right;\">\n",
              "      <th></th>\n",
              "      <th>Unnamed: 0</th>\n",
              "      <th>UNIT</th>\n",
              "      <th>DATEn</th>\n",
              "      <th>TIMEn</th>\n",
              "      <th>Hour</th>\n",
              "      <th>DESCn</th>\n",
              "      <th>ENTRIESn_hourly</th>\n",
              "      <th>EXITSn_hourly</th>\n",
              "      <th>maxpressurei</th>\n",
              "      <th>maxdewpti</th>\n",
              "      <th>mindewpti</th>\n",
              "      <th>minpressurei</th>\n",
              "      <th>meandewpti</th>\n",
              "      <th>meanpressurei</th>\n",
              "      <th>fog</th>\n",
              "      <th>rain</th>\n",
              "      <th>meanwindspdi</th>\n",
              "      <th>mintempi</th>\n",
              "      <th>meantempi</th>\n",
              "      <th>maxtempi</th>\n",
              "      <th>precipi</th>\n",
              "      <th>thunder</th>\n",
              "    </tr>\n",
              "  </thead>\n",
              "  <tbody>\n",
              "    <tr>\n",
              "      <th>80304</th>\n",
              "      <td>80304</td>\n",
              "      <td>R170</td>\n",
              "      <td>2011-05-19</td>\n",
              "      <td>21:00:00</td>\n",
              "      <td>21</td>\n",
              "      <td>REGULAR</td>\n",
              "      <td>51839.0</td>\n",
              "      <td>38793.0</td>\n",
              "      <td>30.05</td>\n",
              "      <td>64.0</td>\n",
              "      <td>57.0</td>\n",
              "      <td>29.95</td>\n",
              "      <td>61.0</td>\n",
              "      <td>30.0</td>\n",
              "      <td>1.0</td>\n",
              "      <td>1</td>\n",
              "      <td>4.0</td>\n",
              "      <td>60.0</td>\n",
              "      <td>68.0</td>\n",
              "      <td>75.0</td>\n",
              "      <td>0.07</td>\n",
              "      <td>0.0</td>\n",
              "    </tr>\n",
              "  </tbody>\n",
              "</table>\n",
              "</div>"
            ]
          },
          "metadata": {
            "tags": []
          },
          "execution_count": 26
        }
      ]
    },
    {
      "cell_type": "markdown",
      "metadata": {
        "id": "6ByPdZolcsEc",
        "colab_type": "text"
      },
      "source": [
        "### *Exercicio 2.8\n",
        "\n",
        "Construa uma função que que retorne:\n",
        "\n",
        "1. A média das entradas com chuva\n",
        "2. A média das entradas sem chuva\n",
        "\n",
        "\n"
      ]
    },
    {
      "cell_type": "code",
      "metadata": {
        "id": "VuA_RXapcsEe",
        "colab_type": "code",
        "colab": {
          "base_uri": "https://localhost:8080/",
          "height": 34
        },
        "outputId": "8d1543ce-fd12-49c1-d3ee-988c6e1382a0"
      },
      "source": [
        "def means(turnstile_weather):\n",
        "    \n",
        "    \n",
        "    ### YOUR CODE HERE ###\n",
        "  \n",
        "    with_rain_mean = turnstile_weather[turnstile_weather['rain'] == 1]['ENTRIESn_hourly'].mean()\n",
        "    without_rain_mean = turnstile_weather[turnstile_weather['rain'] == 0]['ENTRIESn_hourly'].mean()\n",
        "    \n",
        "    return round(with_rain_mean, 2), round(without_rain_mean, 2)\n",
        "\n",
        "means(df_with_weather)"
      ],
      "execution_count": 27,
      "outputs": [
        {
          "output_type": "execute_result",
          "data": {
            "text/plain": [
              "(1105.45, 1090.28)"
            ]
          },
          "metadata": {
            "tags": []
          },
          "execution_count": 27
        }
      ]
    },
    {
      "cell_type": "markdown",
      "metadata": {
        "id": "ESa1DtQOcsEq",
        "colab_type": "text"
      },
      "source": [
        "Responda as perguntas abaixo de acordo com a saida das suas funções:\n",
        "\n",
        "1. Qual a média das entradas com chuva?\n",
        "2. Qual a média das entradas sem chuva?\n"
      ]
    },
    {
      "cell_type": "markdown",
      "metadata": {
        "id": "-4l3DmwtcsEs",
        "colab_type": "text"
      },
      "source": [
        "** Resposta **:<p>1) 1105.45</p><p>2) 1090.28</p>\n",
        "<p>O compartativo entre os dois primeiros quartis dos dados, bem como entre os valores máximos, feito anteriormente, explica o motivo de a média de entradas para dias chuvosos ser maior do que para dias não chuvosos.\n",
        "\n"
      ]
    },
    {
      "cell_type": "markdown",
      "metadata": {
        "id": "EcKGmdQGcsEu",
        "colab_type": "text"
      },
      "source": [
        "## Exercicio 3 - Map Reduce\n",
        "\n",
        "### *Exercicio 3.1*\n",
        "\n",
        "A entrada para esse exercício e o mesmo arquivo da seção anterior (Exercicio 2). Você pode baixar o arquivo neste link:\n",
        "\n",
        " https://s3.amazonaws.com/content.udacity-data.com/courses/ud359/turnstile_data_master_with_weather.csv\n",
        "\n",
        "Varmos criar um mapeador agora. Para cada linha de entrada, a saída do mapeador deve IMPRIMIR (não retornar) a UNIT como uma chave e o número de ENTRIESn_hourly como o valor. Separe a chave e o valor por uma guia. Por exemplo: 'R002 \\ t105105.0'\n",
        "\n",
        "Exporte seu mapeador em um arquivo chamado mapper_result.txt e envie esse arquivo juntamente com a sua submissão. O código para exportar seu mapeador já está escrito no código abaixo.\n",
        "\n",
        "\n"
      ]
    },
    {
      "cell_type": "code",
      "metadata": {
        "id": "5t-rMBtlcsEw",
        "colab_type": "code",
        "colab": {
          "base_uri": "https://localhost:8080/",
          "height": 343
        },
        "outputId": "09fa9ecc-d36f-4487-f126-00313e5ef737"
      },
      "source": [
        "import sys\n",
        "\n",
        "def mapper():\n",
        "    \n",
        "    for line in sys.stdin:\n",
        "        data = line.strip().split(',')\n",
        "        if len(data) == 22:\n",
        "            \n",
        "            #acrescentado \"BlankField\" para preencher cabeçalho da\n",
        "            #primeira coluna, que está em branco, completando 22 campos:\n",
        "            BlankField,\\\n",
        "            UNIT, DATEn, TIMEn, Hour, DESCn, ENTRIESn_hourly, EXITSn_hourly, maxpressurei,\\\n",
        "            maxdewpti, mindewpti, minpressurei, meandewpti, meanpressurei, fog, rain, meanwindspdi,\\\n",
        "            mintempi, meantempi, maxtempi, precipi, thunder = data\n",
        "            print '{0}\\t{1}'.format(UNIT,ENTRIESn_hourly)\n",
        "\n",
        "sys.stdin = open('data/turnstile_data_master_with_weather.csv')\n",
        "sys.stdout = open('data/mapper_result.txt', 'w')\n",
        "mapper()\n",
        "\n",
        "#visualizacao das primeiras linhas do mapper_result.txt\n",
        "mp = pd.read_csv('data/mapper_result.txt', sep='\\t')\n",
        "mp.head(10)\n"
      ],
      "execution_count": 30,
      "outputs": [
        {
          "output_type": "execute_result",
          "data": {
            "text/plain": [
              "   UNIT  ENTRIESn_hourly\n",
              "0  R001              0.0\n",
              "1  R001            217.0\n",
              "2  R001            890.0\n",
              "3  R001           2451.0\n",
              "4  R001           4400.0\n",
              "5  R001           3372.0\n",
              "6  R002              0.0\n",
              "7  R002             42.0\n",
              "8  R002             50.0\n",
              "9  R002            316.0"
            ],
            "text/html": [
              "<div>\n",
              "<style scoped>\n",
              "    .dataframe tbody tr th:only-of-type {\n",
              "        vertical-align: middle;\n",
              "    }\n",
              "\n",
              "    .dataframe tbody tr th {\n",
              "        vertical-align: top;\n",
              "    }\n",
              "\n",
              "    .dataframe thead th {\n",
              "        text-align: right;\n",
              "    }\n",
              "</style>\n",
              "<table border=\"1\" class=\"dataframe\">\n",
              "  <thead>\n",
              "    <tr style=\"text-align: right;\">\n",
              "      <th></th>\n",
              "      <th>UNIT</th>\n",
              "      <th>ENTRIESn_hourly</th>\n",
              "    </tr>\n",
              "  </thead>\n",
              "  <tbody>\n",
              "    <tr>\n",
              "      <th>0</th>\n",
              "      <td>R001</td>\n",
              "      <td>0.0</td>\n",
              "    </tr>\n",
              "    <tr>\n",
              "      <th>1</th>\n",
              "      <td>R001</td>\n",
              "      <td>217.0</td>\n",
              "    </tr>\n",
              "    <tr>\n",
              "      <th>2</th>\n",
              "      <td>R001</td>\n",
              "      <td>890.0</td>\n",
              "    </tr>\n",
              "    <tr>\n",
              "      <th>3</th>\n",
              "      <td>R001</td>\n",
              "      <td>2451.0</td>\n",
              "    </tr>\n",
              "    <tr>\n",
              "      <th>4</th>\n",
              "      <td>R001</td>\n",
              "      <td>4400.0</td>\n",
              "    </tr>\n",
              "    <tr>\n",
              "      <th>5</th>\n",
              "      <td>R001</td>\n",
              "      <td>3372.0</td>\n",
              "    </tr>\n",
              "    <tr>\n",
              "      <th>6</th>\n",
              "      <td>R002</td>\n",
              "      <td>0.0</td>\n",
              "    </tr>\n",
              "    <tr>\n",
              "      <th>7</th>\n",
              "      <td>R002</td>\n",
              "      <td>42.0</td>\n",
              "    </tr>\n",
              "    <tr>\n",
              "      <th>8</th>\n",
              "      <td>R002</td>\n",
              "      <td>50.0</td>\n",
              "    </tr>\n",
              "    <tr>\n",
              "      <th>9</th>\n",
              "      <td>R002</td>\n",
              "      <td>316.0</td>\n",
              "    </tr>\n",
              "  </tbody>\n",
              "</table>\n",
              "</div>"
            ]
          },
          "metadata": {
            "tags": []
          },
          "execution_count": 30
        }
      ]
    },
    {
      "cell_type": "markdown",
      "metadata": {
        "id": "ndv0njI_csE8",
        "colab_type": "text"
      },
      "source": [
        "### *Exercicio 3.2*\n",
        "\n",
        "Agora crie o redutor. Dado o resultado do mapeador do exercicio anterior, o redutor deve imprimir(Não retornar) uma linha por UNIT, juntamente com o número total de ENTRIESn_hourly.Ao longo de maio (que é a duração dos nossos dados), separados por uma guia. Um exemplo de linha de saída do redutor pode ser assim: 'R001 \\ t500625.0'\n",
        "\n",
        "Você pode assumir que a entrada para o redutor está ordenada de tal forma que todas as linhas correspondentes a uma unidade particular são agrupados. No entanto a saida do redutor terá repetição pois existem lojas que aparecem em locais diferentes dos arquivos.\n",
        "\n",
        "Exporte seu redutor em um arquivo chamado reducer_result.txt e envie esse arquivo juntamente com a sua submissão."
      ]
    },
    {
      "cell_type": "code",
      "metadata": {
        "id": "_TfvQT9qcsE-",
        "colab_type": "code",
        "colab": {
          "base_uri": "https://localhost:8080/",
          "height": 343
        },
        "outputId": "bdcc67fa-53d2-4816-83de-d09941a09b5d"
      },
      "source": [
        "def reducer():\n",
        "    \n",
        "    import sys\n",
        "    \n",
        "    oldUnit = None\n",
        "    entriesTotal = 0\n",
        "    \n",
        "    #imprime o cabeçalho de reducer_result.txt:\n",
        "    print '{0}\\t{1}'.format('UNIT', 'ENTRIESn_hourly')\n",
        "    \n",
        "    for line in sys.stdin:\n",
        "        data = line.strip().split('\\t')\n",
        "        thisUnit = data[0]\n",
        "        thisEntrie = data[1]\n",
        "        \n",
        "        #se a linha for o cabeçalho de \"mapper_result.txt\", pule-a:\n",
        "        if 'UNIT' in data[0] and 'ENTRIES' in data[1]:\n",
        "            continue\n",
        "        \n",
        "        if oldUnit and oldUnit != thisUnit:\n",
        "            print oldUnit, '\\t', entriesTotal\n",
        "            oldUnit = thisUnit\n",
        "            entriesTotal = 0\n",
        "        \n",
        "        oldUnit = thisUnit\n",
        "        entriesTotal += float(thisEntrie)        \n",
        "    if oldUnit != None:\n",
        "        print oldUnit, '\\t', entriesTotal\n",
        "\n",
        "        \n",
        "sys.stdin = open('data/mapper_result.txt')\n",
        "sys.stdout = open('data/reducer_result.txt', 'w')\n",
        "reducer()\n",
        "\n",
        "#visualização das primeiras linhas do reducer_result.txt\n",
        "rd = pd.read_csv('data/reducer_result.txt', sep='\\t')\n",
        "rd.head(10)\n"
      ],
      "execution_count": 31,
      "outputs": [
        {
          "output_type": "execute_result",
          "data": {
            "text/plain": [
              "    UNIT  ENTRIESn_hourly\n",
              "0  R001           11330.0\n",
              "1  R002            1680.0\n",
              "2  R003               0.0\n",
              "3  R004               0.0\n",
              "4  R005               1.0\n",
              "5  R006               5.0\n",
              "6  R007               0.0\n",
              "7  R008               0.0\n",
              "8  R009               1.0\n",
              "9  R010           13842.0"
            ],
            "text/html": [
              "<div>\n",
              "<style scoped>\n",
              "    .dataframe tbody tr th:only-of-type {\n",
              "        vertical-align: middle;\n",
              "    }\n",
              "\n",
              "    .dataframe tbody tr th {\n",
              "        vertical-align: top;\n",
              "    }\n",
              "\n",
              "    .dataframe thead th {\n",
              "        text-align: right;\n",
              "    }\n",
              "</style>\n",
              "<table border=\"1\" class=\"dataframe\">\n",
              "  <thead>\n",
              "    <tr style=\"text-align: right;\">\n",
              "      <th></th>\n",
              "      <th>UNIT</th>\n",
              "      <th>ENTRIESn_hourly</th>\n",
              "    </tr>\n",
              "  </thead>\n",
              "  <tbody>\n",
              "    <tr>\n",
              "      <th>0</th>\n",
              "      <td>R001</td>\n",
              "      <td>11330.0</td>\n",
              "    </tr>\n",
              "    <tr>\n",
              "      <th>1</th>\n",
              "      <td>R002</td>\n",
              "      <td>1680.0</td>\n",
              "    </tr>\n",
              "    <tr>\n",
              "      <th>2</th>\n",
              "      <td>R003</td>\n",
              "      <td>0.0</td>\n",
              "    </tr>\n",
              "    <tr>\n",
              "      <th>3</th>\n",
              "      <td>R004</td>\n",
              "      <td>0.0</td>\n",
              "    </tr>\n",
              "    <tr>\n",
              "      <th>4</th>\n",
              "      <td>R005</td>\n",
              "      <td>1.0</td>\n",
              "    </tr>\n",
              "    <tr>\n",
              "      <th>5</th>\n",
              "      <td>R006</td>\n",
              "      <td>5.0</td>\n",
              "    </tr>\n",
              "    <tr>\n",
              "      <th>6</th>\n",
              "      <td>R007</td>\n",
              "      <td>0.0</td>\n",
              "    </tr>\n",
              "    <tr>\n",
              "      <th>7</th>\n",
              "      <td>R008</td>\n",
              "      <td>0.0</td>\n",
              "    </tr>\n",
              "    <tr>\n",
              "      <th>8</th>\n",
              "      <td>R009</td>\n",
              "      <td>1.0</td>\n",
              "    </tr>\n",
              "    <tr>\n",
              "      <th>9</th>\n",
              "      <td>R010</td>\n",
              "      <td>13842.0</td>\n",
              "    </tr>\n",
              "  </tbody>\n",
              "</table>\n",
              "</div>"
            ]
          },
          "metadata": {
            "tags": []
          },
          "execution_count": 31
        }
      ]
    }
  ]
}